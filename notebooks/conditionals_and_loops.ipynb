{
 "cells": [
  {
   "cell_type": "markdown",
   "source": [
    "# Conditionals and Loops\n",
    "\n",
    "Conditionals allow us to branch our program execution depending on whether certain conditions are true or false.  This allows us to create programs that choose whether to perform some action given certain conditions.\n",
    "\n",
    "In Python, we use the `if` statement to execute code conditionally.  If the expression following `if` is `True`, then the program will execute the block of statements following the `if`.  We can also supply code to run when the conditional expression is `False` in a block following the `else` keyword."
   ],
   "metadata": {
    "collapsed": false,
    "pycharm": {
     "name": "#%% md\n"
    }
   }
  },
  {
   "cell_type": "code",
   "execution_count": 2,
   "outputs": [
    {
     "name": "stdout",
     "output_type": "stream",
     "text": [
      "Don't forget your umbrella!\n"
     ]
    }
   ],
   "source": [
    "raining = True\n",
    "snowing = False\n",
    "\n",
    "if raining:\n",
    "    print(\"Don't forget your umbrella!\")\n",
    "else:\n",
    "    if snowing:\n",
    "        print(\"Brrr... Bring a coat!\")\n",
    "    else:\n",
    "        print(\"Blue skies ahead!\")"
   ],
   "metadata": {
    "collapsed": false,
    "pycharm": {
     "name": "#%%\n"
    }
   }
  },
  {
   "cell_type": "markdown",
   "source": [],
   "metadata": {
    "collapsed": false,
    "pycharm": {
     "name": "#%% md\n"
    }
   }
  }
 ],
 "metadata": {
  "kernelspec": {
   "display_name": "Python 3",
   "language": "python",
   "name": "python3"
  },
  "language_info": {
   "codemirror_mode": {
    "name": "ipython",
    "version": 2
   },
   "file_extension": ".py",
   "mimetype": "text/x-python",
   "name": "python",
   "nbconvert_exporter": "python",
   "pygments_lexer": "ipython2",
   "version": "2.7.6"
  }
 },
 "nbformat": 4,
 "nbformat_minor": 0
}