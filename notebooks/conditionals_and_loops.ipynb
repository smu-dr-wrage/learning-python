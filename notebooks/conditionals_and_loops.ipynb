{
 "cells": [
  {
   "cell_type": "markdown",
   "source": [
    "# Conditionals and Loops\n",
    "\n",
    "## Conditionals\n",
    "\n",
    "Conditionals allow us to branch our program execution depending on whether certain conditions are true or false.  This allows us to create programs that choose whether to perform some action given certain conditions.\n",
    "\n",
    "### `if` statements\n",
    "\n",
    "In Python, we use the `if` statement to execute code conditionally.  If the expression following `if` is `True`, then the program will execute the block of statements following the `if`.\n",
    "\n",
    "We can also supply code to run when the conditional expression is `False` in a block following the `else` keyword.\n",
    "\n",
    "Basic conditionals take the form\n",
    "\n",
    "```python\n",
    "if <expression>:\n",
    "    <statement(s)>\n",
    "else:\n",
    "    <statement(s)>\n",
    "```"
   ],
   "metadata": {
    "collapsed": false
   }
  },
  {
   "cell_type": "code",
   "execution_count": null,
   "outputs": [],
   "source": [
    "weather = \"raining\"\n",
    "# weather = \"snowing\"\n",
    "\n",
    "if weather == \"raining\":\n",
    "    print(\"Don't forget your umbrella!\")\n",
    "else:\n",
    "    if weather == \"snowing\":\n",
    "        print(\"Brrr... Bring a coat!\")\n",
    "    else:\n",
    "        print(\"Blue skies ahead!\")\n",
    "print(\"We are now ready to leave.\")"
   ],
   "metadata": {
    "collapsed": false
   }
  },
  {
   "cell_type": "markdown",
   "source": [
    "### Additional conditions with `elif`\n",
    "\n",
    "Nesting an `if` block inside the `else` block is not necessary and arguably reduces readability.  When you need to test for multiple independent conditions, you can do so with the `elif` keyword after your initial `if` block."
   ],
   "metadata": {
    "collapsed": false
   }
  },
  {
   "cell_type": "code",
   "execution_count": null,
   "outputs": [],
   "source": [
    "# weather = \"raining\"\n",
    "weather = \"snowing\"\n",
    "\n",
    "if weather == \"raining\":\n",
    "    print(\"Don't forget your umbrella!\")\n",
    "elif weather == \"snowing\":\n",
    "    print(\"Brrr... Bring a coat!\")\n",
    "else:\n",
    "    print(\"Blue skies ahead!\")\n",
    "print(\"We are now ready to leave.\")"
   ],
   "metadata": {
    "collapsed": false
   }
  },
  {
   "cell_type": "markdown",
   "source": [
    "### \"Truthy\" and \"Falsey\"\n",
    "\n",
    "The expressions that an `if` statement evaluates are anything that can be evaluated to a 'truthy' value."
   ],
   "metadata": {
    "collapsed": false
   }
  },
  {
   "cell_type": "code",
   "execution_count": null,
   "outputs": [],
   "source": [
    "vendors = ['Cisco', 'Juniper', 'F5', 'Citrix']\n",
    "test_vendor = 'Fortinet'\n",
    "\n",
    "if test_vendor in vendors:\n",
    "    print(f\"Yes, we support {test_vendor}.\")\n",
    "else:\n",
    "    print(f\"I'm sorry, but we don't support {test_vendor}.\")"
   ],
   "metadata": {
    "collapsed": false
   }
  },
  {
   "cell_type": "code",
   "execution_count": null,
   "outputs": [],
   "source": [
    "vendors = None\n",
    "# vendors = []\n",
    "# vendors = ['Cisco', 'Juniper', 'F5', 'Citrix']\n",
    "\n",
    "if vendors:\n",
    "    print(\"The variable, vendors, is truthy.\")\n",
    "else:\n",
    "    print(\"The variable, vendors, is falsey.\")"
   ],
   "metadata": {
    "collapsed": false
   }
  },
  {
   "cell_type": "code",
   "execution_count": null,
   "outputs": [],
   "source": [
    "test_string = None\n",
    "# test_string = ''\n",
    "# test_string = 'A quick brown fox jumps over the lazy dog'\n",
    "\n",
    "if test_string:\n",
    "    print(\"'test_string' is truthy.\")\n",
    "else:\n",
    "    print(\"'test_string' is falsey.\")"
   ],
   "metadata": {
    "collapsed": false
   }
  },
  {
   "cell_type": "markdown",
   "source": [
    "## Conditional Expressions\n",
    "\n",
    "Conditional expressions allow for the conditional evaluation of one expression over another.  These are different from `if`/`elif`/`else` statements because only a single expression is evaluated (versus potentially many statements within a block).\n",
    "\n",
    "Conditional expressions take the form\n",
    "\n",
    "```python\n",
    "<expression1> if <conditional_expression> else <expression2>\n",
    "```\n",
    "\n",
    "Conditional expressions can also be chained together."
   ],
   "metadata": {
    "collapsed": false
   }
  },
  {
   "cell_type": "code",
   "execution_count": null,
   "outputs": [],
   "source": [
    "weekend = [\"Saturday\", \"Sunday\"]\n",
    "\n",
    "day = \"Monday\"\n",
    "# day = \"Sunday\"\n",
    "\n",
    "plan = \"have fun!\" if day in weekend else \"work, work, work...\"\n",
    "\n",
    "print(f\"Today is {day}, so I plan to {plan}\")"
   ],
   "metadata": {
    "collapsed": false
   }
  },
  {
   "cell_type": "code",
   "execution_count": null,
   "outputs": [],
   "source": [
    "x = 3\n",
    "number = ('one' if x == 1 else\n",
    "          'two' if x == 2 else\n",
    "          'three' if x == 3 else\n",
    "          'four' if x == 4 else\n",
    "          'too big')\n",
    "number"
   ],
   "metadata": {
    "collapsed": false
   }
  },
  {
   "cell_type": "markdown",
   "source": [
    "## Iteration\n",
    "\n",
    "Iteration allow us to repeat the execution of some block of code.\n",
    "\n",
    "In some cases we can define exactly how many times we want a block of code to be executed.  Since we know definitively how many times to execute a piece of code, this is called 'definite iteration.'\n",
    "\n",
    "In other cases we can specify that a block of code should be executed until some condition is met.  Since we do not know how many times (if any) a piece of code will be executed in this case, we refer to this as 'indefinite iteration.'\n",
    "\n",
    "Iteration is also ofter referred to as looping, since the repeated execution of code 'loops' back over that code multiple times.\n",
    "\n",
    "### `while` loops\n",
    "\n",
    "The `while` loops tends to be an indefinite iteration, executing as long as some test expression evaluates to `True`.\n",
    "\n",
    "The `while` loop takes the form\n",
    "\n",
    "```python\n",
    "while <expression>:\n",
    "    <statement(s)>\n",
    "```"
   ],
   "metadata": {
    "collapsed": false
   }
  },
  {
   "cell_type": "code",
   "execution_count": null,
   "outputs": [],
   "source": [
    "x = 0\n",
    "evens = []\n",
    "while x <= 20:\n",
    "    evens.append(x)\n",
    "    x +=2\n",
    "evens"
   ],
   "metadata": {
    "collapsed": false
   }
  },
  {
   "cell_type": "code",
   "execution_count": null,
   "outputs": [],
   "source": [
    "y = 5\n",
    "while y > 0:\n",
    "    print(y)\n",
    "    y -= 1\n",
    "print(\"Blast off!\")"
   ],
   "metadata": {
    "collapsed": false
   }
  },
  {
   "cell_type": "code",
   "execution_count": null,
   "outputs": [],
   "source": [],
   "metadata": {
    "collapsed": false
   }
  }
 ],
 "metadata": {
  "kernelspec": {
   "display_name": "Python 3",
   "language": "python",
   "name": "python3"
  },
  "language_info": {
   "codemirror_mode": {
    "name": "ipython",
    "version": 2
   },
   "file_extension": ".py",
   "mimetype": "text/x-python",
   "name": "python",
   "nbconvert_exporter": "python",
   "pygments_lexer": "ipython2",
   "version": "2.7.6"
  }
 },
 "nbformat": 4,
 "nbformat_minor": 0
}
