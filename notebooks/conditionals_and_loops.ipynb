{
 "cells": [
  {
   "cell_type": "markdown",
   "source": [
    "# Conditionals and Loops\n",
    "\n",
    "## Conditionals\n",
    "\n",
    "Conditionals allow us to branch our program execution depending on whether certain conditions are true or false.  This allows us to create programs that choose whether to perform some action given certain conditions.\n",
    "\n",
    "### `if` statements\n",
    "\n",
    "In Python, we use the `if` statement to execute code conditionally.  If the expression following `if` is `True`, then the program will execute the block of statements following the `if`.\n",
    "\n",
    "We can also supply code to run when the conditional expression is `False` in a block following the `else` keyword.\n",
    "\n",
    "Basic conditionals take the form\n",
    "\n",
    "```python\n",
    "if <expression>:\n",
    "    <statement(s)>\n",
    "else:\n",
    "    <statement(s)>\n",
    "```"
   ],
   "metadata": {
    "collapsed": false
   }
  },
  {
   "cell_type": "code",
   "execution_count": null,
   "outputs": [],
   "source": [
    "weather = \"raining\"\n",
    "# weather = \"snowing\"\n",
    "\n",
    "if weather == \"raining\":\n",
    "    print(\"Don't forget your umbrella!\")\n",
    "else:\n",
    "    if weather == \"snowing\":\n",
    "        print(\"Brrr... Bring a coat!\")\n",
    "    else:\n",
    "        print(\"Blue skies ahead!\")\n",
    "print(\"We are now ready to leave.\")"
   ],
   "metadata": {
    "collapsed": false
   }
  },
  {
   "cell_type": "markdown",
   "source": [
    "### Additional conditions with `elif`\n",
    "\n",
    "Nesting an `if` block inside the `else` block is not necessary and arguably reduces readability.  When you need to test for multiple independent conditions, you can do so with the `elif` keyword after your initial `if` block."
   ],
   "metadata": {
    "collapsed": false
   }
  },
  {
   "cell_type": "code",
   "execution_count": null,
   "outputs": [],
   "source": [
    "# weather = \"raining\"\n",
    "weather = \"snowing\"\n",
    "\n",
    "if weather == \"raining\":\n",
    "    print(\"Don't forget your umbrella!\")\n",
    "elif weather == \"snowing\":\n",
    "    print(\"Brrr... Bring a coat!\")\n",
    "else:\n",
    "    print(\"Blue skies ahead!\")\n",
    "print(\"We are now ready to leave.\")"
   ],
   "metadata": {
    "collapsed": false
   }
  },
  {
   "cell_type": "markdown",
   "source": [
    "### \"Truthy\" and \"Falsey\"\n",
    "\n",
    "The expressions that an `if` statement evaluates are anything that can be evaluated to a 'truthy' value."
   ],
   "metadata": {
    "collapsed": false
   }
  },
  {
   "cell_type": "code",
   "execution_count": null,
   "outputs": [],
   "source": [
    "vendors = ['Cisco', 'Juniper', 'F5', 'Citrix']\n",
    "test_vendor = 'Fortinet'\n",
    "\n",
    "if test_vendor in vendors:\n",
    "    print(f\"Yes, we support {test_vendor}.\")\n",
    "else:\n",
    "    print(f\"I'm sorry, but we don't support {test_vendor}.\")"
   ],
   "metadata": {
    "collapsed": false
   }
  },
  {
   "cell_type": "code",
   "execution_count": null,
   "outputs": [],
   "source": [
    "vendors = None\n",
    "# vendors = []\n",
    "# vendors = ['Cisco', 'Juniper', 'F5', 'Citrix']\n",
    "\n",
    "if vendors:\n",
    "    print(\"The variable, vendors, is truthy.\")\n",
    "else:\n",
    "    print(\"The variable, vendors, is falsey.\")"
   ],
   "metadata": {
    "collapsed": false
   }
  },
  {
   "cell_type": "code",
   "execution_count": null,
   "outputs": [],
   "source": [
    "test_string = None\n",
    "# test_string = ''\n",
    "# test_string = 'A quick brown fox jumps over the lazy dog'\n",
    "\n",
    "if test_string:\n",
    "    print(\"'test_string' is truthy.\")\n",
    "else:\n",
    "    print(\"'test_string' is falsey.\")"
   ],
   "metadata": {
    "collapsed": false
   }
  },
  {
   "cell_type": "markdown",
   "source": [
    "## Conditional Expressions\n",
    "\n",
    "Conditional expressions allow for the conditional evaluation of one expression over another.  These are different from `if`/`elif`/`else` statements because only a single expression is evaluated (versus potentially many statements within a block).\n",
    "\n",
    "Conditional expressions take the form\n",
    "\n",
    "```python\n",
    "<expression1> if <conditional_expression> else <expression2>\n",
    "```\n",
    "\n",
    "Conditional expressions can also be chained together."
   ],
   "metadata": {
    "collapsed": false
   }
  },
  {
   "cell_type": "code",
   "execution_count": null,
   "outputs": [],
   "source": [
    "weekend = [\"Saturday\", \"Sunday\"]\n",
    "\n",
    "day = \"Monday\"\n",
    "# day = \"Sunday\"\n",
    "\n",
    "plan = \"have fun!\" if day in weekend else \"work, work, work...\"\n",
    "\n",
    "print(f\"Today is {day}, so I plan to {plan}\")"
   ],
   "metadata": {
    "collapsed": false
   }
  },
  {
   "cell_type": "code",
   "execution_count": null,
   "outputs": [],
   "source": [
    "x = 3\n",
    "number = ('one' if x == 1 else\n",
    "          'two' if x == 2 else\n",
    "          'three' if x == 3 else\n",
    "          'four' if x == 4 else\n",
    "          'too big')\n",
    "number"
   ],
   "metadata": {
    "collapsed": false
   }
  },
  {
   "cell_type": "markdown",
   "source": [
    "## Iteration\n",
    "\n",
    "Iteration allow us to repeat the execution of some block of code.\n",
    "\n",
    "In some cases we can define exactly how many times we want a block of code to be executed.  Since we know definitively how many times to execute a piece of code, this is called 'definite iteration.'\n",
    "\n",
    "In other cases we can specify that a block of code should be executed until some condition is met.  Since we do not know how many times (if any) a piece of code will be executed in this case, we refer to this as 'indefinite iteration.'\n",
    "\n",
    "Iteration is also ofter referred to as looping, since the repeated execution of code 'loops' back over that code multiple times.\n",
    "\n",
    "### `while` loops\n",
    "\n",
    "The `while` loops tends to be an indefinite iteration, executing as long as some test expression evaluates to `True`.\n",
    "\n",
    "The `while` loop takes the form\n",
    "\n",
    "```python\n",
    "while <expression>:\n",
    "    <statement(s)>\n",
    "```"
   ],
   "metadata": {
    "collapsed": false
   }
  },
  {
   "cell_type": "code",
   "execution_count": null,
   "outputs": [],
   "source": [
    "x = 0\n",
    "evens = []\n",
    "while x <= 20:\n",
    "    evens.append(x)\n",
    "    x +=2\n",
    "evens"
   ],
   "metadata": {
    "collapsed": false
   }
  },
  {
   "cell_type": "code",
   "execution_count": null,
   "outputs": [],
   "source": [
    "y = 5\n",
    "while y > 0:\n",
    "    print(y)\n",
    "    y -= 1\n",
    "print(\"Blast off!\")"
   ],
   "metadata": {
    "collapsed": false
   }
  },
  {
   "cell_type": "code",
   "execution_count": null,
   "outputs": [],
   "source": [],
   "metadata": {
    "collapsed": false
   }
  },
  {
   "cell_type": "markdown",
   "source": [
    "### `for` loops\n",
    "\n",
    "These are usually a type of definite iteration.  The `for` loop can take several forms."
   ],
   "metadata": {
    "collapsed": false
   }
  },
  {
   "cell_type": "code",
   "execution_count": 2,
   "outputs": [
    {
     "name": "stdout",
     "output_type": "stream",
     "text": [
      "[0, 2, 4, 6, 8, 10, 12, 14, 16, 18, 20]\n"
     ]
    }
   ],
   "source": [
    "evens_to_twenty = []\n",
    "for i in range(0,21,2):\n",
    "    evens_to_twenty.append(i)\n",
    "print(evens_to_twenty)"
   ],
   "metadata": {
    "collapsed": false
   }
  },
  {
   "cell_type": "code",
   "execution_count": 4,
   "outputs": [
    {
     "data": {
      "text/plain": "[0, 4, 16, 36, 64, 100, 144, 196, 256, 324, 400]"
     },
     "execution_count": 4,
     "metadata": {},
     "output_type": "execute_result"
    }
   ],
   "source": [
    "squares = []\n",
    "for number in evens_to_twenty:\n",
    "    squares.append(number ** 2)\n",
    "squares"
   ],
   "metadata": {
    "collapsed": false
   }
  },
  {
   "cell_type": "code",
   "execution_count": 5,
   "outputs": [
    {
     "data": {
      "text/plain": "['192.168.1.1',\n '192.168.1.2',\n '192.168.1.3',\n '192.168.1.4',\n '192.168.1.5',\n '192.168.1.6',\n '192.168.1.7',\n '192.168.1.8',\n '192.168.1.9',\n '192.168.1.10',\n '192.168.1.11',\n '192.168.1.12',\n '192.168.1.13',\n '192.168.1.14',\n '192.168.1.15',\n '192.168.1.16',\n '192.168.1.17',\n '192.168.1.18',\n '192.168.1.19',\n '192.168.1.20',\n '192.168.1.21',\n '192.168.1.22',\n '192.168.1.23',\n '192.168.1.24',\n '192.168.1.25',\n '192.168.1.26',\n '192.168.1.27',\n '192.168.1.28',\n '192.168.1.29',\n '192.168.1.30',\n '192.168.1.31',\n '192.168.1.32',\n '192.168.1.33',\n '192.168.1.34',\n '192.168.1.35',\n '192.168.1.36',\n '192.168.1.37',\n '192.168.1.38',\n '192.168.1.39',\n '192.168.1.40',\n '192.168.1.41',\n '192.168.1.42',\n '192.168.1.43',\n '192.168.1.44',\n '192.168.1.45',\n '192.168.1.46',\n '192.168.1.47',\n '192.168.1.48',\n '192.168.1.49',\n '192.168.1.50',\n '192.168.1.51',\n '192.168.1.52',\n '192.168.1.53',\n '192.168.1.54',\n '192.168.1.55',\n '192.168.1.56',\n '192.168.1.57',\n '192.168.1.58',\n '192.168.1.59',\n '192.168.1.60',\n '192.168.1.61',\n '192.168.1.62',\n '192.168.1.63',\n '192.168.1.64',\n '192.168.1.65',\n '192.168.1.66',\n '192.168.1.67',\n '192.168.1.68',\n '192.168.1.69',\n '192.168.1.70',\n '192.168.1.71',\n '192.168.1.72',\n '192.168.1.73',\n '192.168.1.74',\n '192.168.1.75',\n '192.168.1.76',\n '192.168.1.77',\n '192.168.1.78',\n '192.168.1.79',\n '192.168.1.80',\n '192.168.1.81',\n '192.168.1.82',\n '192.168.1.83',\n '192.168.1.84',\n '192.168.1.85',\n '192.168.1.86',\n '192.168.1.87',\n '192.168.1.88',\n '192.168.1.89',\n '192.168.1.90',\n '192.168.1.91',\n '192.168.1.92',\n '192.168.1.93',\n '192.168.1.94',\n '192.168.1.95',\n '192.168.1.96',\n '192.168.1.97',\n '192.168.1.98',\n '192.168.1.99',\n '192.168.1.100',\n '192.168.1.101',\n '192.168.1.102',\n '192.168.1.103',\n '192.168.1.104',\n '192.168.1.105',\n '192.168.1.106',\n '192.168.1.107',\n '192.168.1.108',\n '192.168.1.109',\n '192.168.1.110',\n '192.168.1.111',\n '192.168.1.112',\n '192.168.1.113',\n '192.168.1.114',\n '192.168.1.115',\n '192.168.1.116',\n '192.168.1.117',\n '192.168.1.118',\n '192.168.1.119',\n '192.168.1.120',\n '192.168.1.121',\n '192.168.1.122',\n '192.168.1.123',\n '192.168.1.124',\n '192.168.1.125',\n '192.168.1.126',\n '192.168.1.127',\n '192.168.1.128',\n '192.168.1.129',\n '192.168.1.130',\n '192.168.1.131',\n '192.168.1.132',\n '192.168.1.133',\n '192.168.1.134',\n '192.168.1.135',\n '192.168.1.136',\n '192.168.1.137',\n '192.168.1.138',\n '192.168.1.139',\n '192.168.1.140',\n '192.168.1.141',\n '192.168.1.142',\n '192.168.1.143',\n '192.168.1.144',\n '192.168.1.145',\n '192.168.1.146',\n '192.168.1.147',\n '192.168.1.148',\n '192.168.1.149',\n '192.168.1.150',\n '192.168.1.151',\n '192.168.1.152',\n '192.168.1.153',\n '192.168.1.154',\n '192.168.1.155',\n '192.168.1.156',\n '192.168.1.157',\n '192.168.1.158',\n '192.168.1.159',\n '192.168.1.160',\n '192.168.1.161',\n '192.168.1.162',\n '192.168.1.163',\n '192.168.1.164',\n '192.168.1.165',\n '192.168.1.166',\n '192.168.1.167',\n '192.168.1.168',\n '192.168.1.169',\n '192.168.1.170',\n '192.168.1.171',\n '192.168.1.172',\n '192.168.1.173',\n '192.168.1.174',\n '192.168.1.175',\n '192.168.1.176',\n '192.168.1.177',\n '192.168.1.178',\n '192.168.1.179',\n '192.168.1.180',\n '192.168.1.181',\n '192.168.1.182',\n '192.168.1.183',\n '192.168.1.184',\n '192.168.1.185',\n '192.168.1.186',\n '192.168.1.187',\n '192.168.1.188',\n '192.168.1.189',\n '192.168.1.190',\n '192.168.1.191',\n '192.168.1.192',\n '192.168.1.193',\n '192.168.1.194',\n '192.168.1.195',\n '192.168.1.196',\n '192.168.1.197',\n '192.168.1.198',\n '192.168.1.199',\n '192.168.1.200',\n '192.168.1.201',\n '192.168.1.202',\n '192.168.1.203',\n '192.168.1.204',\n '192.168.1.205',\n '192.168.1.206',\n '192.168.1.207',\n '192.168.1.208',\n '192.168.1.209',\n '192.168.1.210',\n '192.168.1.211',\n '192.168.1.212',\n '192.168.1.213',\n '192.168.1.214',\n '192.168.1.215',\n '192.168.1.216',\n '192.168.1.217',\n '192.168.1.218',\n '192.168.1.219',\n '192.168.1.220',\n '192.168.1.221',\n '192.168.1.222',\n '192.168.1.223',\n '192.168.1.224',\n '192.168.1.225',\n '192.168.1.226',\n '192.168.1.227',\n '192.168.1.228',\n '192.168.1.229',\n '192.168.1.230',\n '192.168.1.231',\n '192.168.1.232',\n '192.168.1.233',\n '192.168.1.234',\n '192.168.1.235',\n '192.168.1.236',\n '192.168.1.237',\n '192.168.1.238',\n '192.168.1.239',\n '192.168.1.240',\n '192.168.1.241',\n '192.168.1.242',\n '192.168.1.243',\n '192.168.1.244',\n '192.168.1.245',\n '192.168.1.246',\n '192.168.1.247',\n '192.168.1.248',\n '192.168.1.249',\n '192.168.1.250',\n '192.168.1.251',\n '192.168.1.252',\n '192.168.1.253',\n '192.168.1.254']"
     },
     "execution_count": 5,
     "metadata": {},
     "output_type": "execute_result"
    }
   ],
   "source": [
    "ip_addresses = []\n",
    "for i in range(1, 255):\n",
    "    ip_addresses.append(f\"192.168.1.{i}\")\n",
    "ip_addresses"
   ],
   "metadata": {
    "collapsed": false
   }
  },
  {
   "cell_type": "code",
   "execution_count": null,
   "outputs": [],
   "source": [],
   "metadata": {
    "collapsed": false
   }
  }
 ],
 "metadata": {
  "kernelspec": {
   "display_name": "Python 3",
   "language": "python",
   "name": "python3"
  },
  "language_info": {
   "codemirror_mode": {
    "name": "ipython",
    "version": 2
   },
   "file_extension": ".py",
   "mimetype": "text/x-python",
   "name": "python",
   "nbconvert_exporter": "python",
   "pygments_lexer": "ipython2",
   "version": "2.7.6"
  }
 },
 "nbformat": 4,
 "nbformat_minor": 0
}
