{
 "cells": [
  {
   "cell_type": "code",
   "execution_count": 32,
   "outputs": [],
   "source": [
    "host = '192.168.1.144'\n",
    "port = 830\n",
    "username = 'netconf'\n",
    "password = 'abc123'"
   ],
   "metadata": {
    "collapsed": false,
    "ExecuteTime": {
     "start_time": "2023-03-30T22:19:26.633541Z",
     "end_time": "2023-03-30T22:19:26.673631Z"
    }
   }
  },
  {
   "cell_type": "code",
   "execution_count": 33,
   "outputs": [],
   "source": [
    "import ncclient\n",
    "from ncclient import manager\n",
    "\n",
    "with manager.connect_ssh(host=host,\n",
    "                         port=port,\n",
    "                         username=username,\n",
    "                         password=password,\n",
    "                         hostkey_verify=False,\n",
    "                         timeout=120,\n",
    "                         device_params={'name':'junos'}) as mgr:\n",
    "    config: ncclient.xml_.NCElement = mgr.get_config(source='running')"
   ],
   "metadata": {
    "collapsed": false,
    "ExecuteTime": {
     "start_time": "2023-03-30T22:19:27.712378Z",
     "end_time": "2023-03-30T22:19:33.868930Z"
    }
   }
  },
  {
   "cell_type": "code",
   "execution_count": 50,
   "outputs": [
    {
     "name": "stdout",
     "output_type": "stream",
     "text": [
      "--------------------------------------------------\n",
      "user.name : netconf\n",
      "user.uid : 2001\n",
      "user.class : super-user\n",
      "user.authentication.encrypted-password : $1$bB8UMoy/$Uk7/9QTMb6mRXINs4cFYD.\n",
      "--------------------------------------------------\n",
      "user.name : pwrage\n",
      "user.uid : 2000\n",
      "user.class : super-user\n",
      "user.authentication.encrypted-password : $1$1YAYScOT$EVhU5CnxrSU5YuxAUtAXA.\n"
     ]
    }
   ],
   "source": [
    "from typing import List\n",
    "from lxml.etree import _Element\n",
    "\n",
    "users: List[_Element] = config.xpath('//configuration/system/login/user')\n",
    "for user in users:\n",
    "    print('-'*50)  # print separator\n",
    "    label_prefixes = []  # collect parent element tag names\n",
    "    for child in user.iter():  # iterates in document order\n",
    "        if child.text is None:  # element has no text; children are other elements\n",
    "            label_prefixes.append(child.tag)\n",
    "        else:\n",
    "            key = f\"{'.'.join(label_prefixes)}.{child.tag}\"\n",
    "            value = child.text\n",
    "            print(f\"{key} : {value}\")\n"
   ],
   "metadata": {
    "collapsed": false,
    "ExecuteTime": {
     "start_time": "2023-03-30T22:48:56.290539Z",
     "end_time": "2023-03-30T22:48:56.339569Z"
    }
   }
  },
  {
   "cell_type": "code",
   "execution_count": 51,
   "outputs": [
    {
     "name": "stdout",
     "output_type": "stream",
     "text": [
      "--------------------------------------------------\n",
      "interface.name : fe-0/0/0\n",
      "interface.unit.name : 0\n",
      "interface.unit.family.inet.dhcp-client.server-address : 192.168.1.1\n",
      "--------------------------------------------------\n",
      "interface.name : fe-0/0/1\n",
      "interface.unit.name : 0\n",
      "interface.unit.family.ethernet-switching.vlan.members : vlan-trust\n",
      "--------------------------------------------------\n",
      "interface.name : fe-0/0/2\n",
      "interface.unit.name : 0\n",
      "interface.unit.family.ethernet-switching.vlan.members : vlan-trust\n",
      "--------------------------------------------------\n",
      "interface.name : fe-0/0/3\n",
      "interface.unit.name : 0\n",
      "interface.unit.family.ethernet-switching.vlan.members : vlan-trust\n",
      "--------------------------------------------------\n",
      "interface.name : fe-0/0/4\n",
      "interface.unit.name : 0\n",
      "interface.unit.family.ethernet-switching.vlan.members : vlan-trust\n",
      "--------------------------------------------------\n",
      "interface.name : fe-0/0/5\n",
      "interface.unit.name : 0\n",
      "interface.unit.family.ethernet-switching.vlan.members : vlan-trust\n",
      "--------------------------------------------------\n",
      "interface.name : fe-0/0/6\n",
      "interface.unit.name : 0\n",
      "interface.unit.family.ethernet-switching.vlan.members : vlan-trust\n",
      "--------------------------------------------------\n",
      "interface.name : fe-0/0/7\n",
      "interface.unit.name : 0\n",
      "interface.unit.family.ethernet-switching.vlan.members : vlan-trust\n",
      "--------------------------------------------------\n",
      "interface.name : vlan\n",
      "interface.unit.name : 0\n",
      "interface.unit.family.inet.address.name : 192.168.7.1/24\n"
     ]
    }
   ],
   "source": [
    "interfaces: List[_Element] = config.xpath('//configuration/interfaces/interface')\n",
    "\n",
    "\n",
    "for interface in interfaces:\n",
    "    print('-'*50)  # print separator\n",
    "    prefixes = []  # collect parent element tag names\n",
    "    for element in interface.iter():  # iterates in document order\n",
    "        if element.text is None:  # element has no text; children are other elements\n",
    "            prefixes.append(element.tag)\n",
    "        else:\n",
    "            key = f\"{'.'.join(prefixes)}.{element.tag}\"\n",
    "            value = element.text\n",
    "            print(f\"{key} : {value}\")"
   ],
   "metadata": {
    "collapsed": false,
    "ExecuteTime": {
     "start_time": "2023-03-30T22:49:05.126603Z",
     "end_time": "2023-03-30T22:49:05.153625Z"
    }
   }
  },
  {
   "cell_type": "code",
   "execution_count": 1,
   "outputs": [
    {
     "ename": "NameError",
     "evalue": "name 'host' is not defined",
     "output_type": "error",
     "traceback": [
      "\u001B[1;31m---------------------------------------------------------------------------\u001B[0m",
      "\u001B[1;31mNameError\u001B[0m                                 Traceback (most recent call last)",
      "Cell \u001B[1;32mIn[1], line 1\u001B[0m\n\u001B[1;32m----> 1\u001B[0m \u001B[38;5;28;01mwith\u001B[39;00m \u001B[38;5;28mopen\u001B[39m(\u001B[38;5;124mf\u001B[39m\u001B[38;5;124m\"\u001B[39m\u001B[38;5;124m../data/\u001B[39m\u001B[38;5;132;01m{\u001B[39;00m\u001B[43mhost\u001B[49m\u001B[38;5;132;01m}\u001B[39;00m\u001B[38;5;124m.xml\u001B[39m\u001B[38;5;124m\"\u001B[39m, \u001B[38;5;124m'\u001B[39m\u001B[38;5;124mw\u001B[39m\u001B[38;5;124m'\u001B[39m) \u001B[38;5;28;01mas\u001B[39;00m fh:\n\u001B[0;32m      2\u001B[0m     fh\u001B[38;5;241m.\u001B[39mwrite(config\u001B[38;5;241m.\u001B[39mdata_xml)\n",
      "\u001B[1;31mNameError\u001B[0m: name 'host' is not defined"
     ]
    }
   ],
   "source": [
    "with open(f\"../data/{host}.xml\", 'w') as fh:\n",
    "    fh.write(config.data_xml)\n"
   ],
   "metadata": {
    "collapsed": false
   }
  },
  {
   "cell_type": "code",
   "execution_count": null,
   "outputs": [],
   "source": [],
   "metadata": {
    "collapsed": false
   }
  }
 ],
 "metadata": {
  "kernelspec": {
   "display_name": "Python 3",
   "language": "python",
   "name": "python3"
  },
  "language_info": {
   "codemirror_mode": {
    "name": "ipython",
    "version": 2
   },
   "file_extension": ".py",
   "mimetype": "text/x-python",
   "name": "python",
   "nbconvert_exporter": "python",
   "pygments_lexer": "ipython2",
   "version": "2.7.6"
  }
 },
 "nbformat": 4,
 "nbformat_minor": 0
}
